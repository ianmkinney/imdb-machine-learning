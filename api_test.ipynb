{
 "cells": [
  {
   "cell_type": "code",
   "execution_count": 2,
   "metadata": {},
   "outputs": [],
   "source": [
    "import requests\n",
    "import json\n",
    "import pandas as pd\n",
    "\n",
    "def get_id(search_title): \n",
    "\n",
    "    url = \"https://imdb8.p.rapidapi.com/auto-complete\"\n",
    "\n",
    "    querystring = {\"q\":search_title}\n",
    "\n",
    "    headers = {\n",
    "        'x-rapidapi-host': \"imdb8.p.rapidapi.com\",\n",
    "        'x-rapidapi-key': \"bdc2d05badmsh9afadba2f12e067p1e1e49jsn9596022c7263\"\n",
    "        }\n",
    "\n",
    "    response = requests.request(\"GET\", url, headers=headers, params=querystring)\n",
    "\n",
    "    response_json = json.loads(response.text)\n",
    "\n",
    "    data = pd.DataFrame(response_json['d'])\n",
    "    result = data.head(1)\n",
    "    return result.id[0]"
   ]
  },
  {
   "cell_type": "code",
   "execution_count": 4,
   "metadata": {},
   "outputs": [
    {
     "data": {
      "text/plain": [
       "'tt1160419'"
      ]
     },
     "execution_count": 4,
     "metadata": {},
     "output_type": "execute_result"
    }
   ],
   "source": [
    "get_id('dune 2021')"
   ]
  },
  {
   "cell_type": "code",
   "execution_count": 2,
   "metadata": {},
   "outputs": [],
   "source": [
    "def add_people(values, imdb_id): \n",
    "    url = \"https://imdb8.p.rapidapi.com/title/get-full-credits\"\n",
    "\n",
    "    querystring = {\"tconst\":imdb_id}\n",
    "\n",
    "    headers = {\n",
    "        'x-rapidapi-host': \"imdb8.p.rapidapi.com\",\n",
    "        'x-rapidapi-key': \"bdc2d05badmsh9afadba2f12e067p1e1e49jsn9596022c7263\"\n",
    "        }\n",
    "\n",
    "    response = requests.request(\"GET\", url, headers=headers, params=querystring)\n",
    "    response_json = json.loads(response.text)\n",
    "\n",
    "    values['actor_1'] = response_json['cast'][0]['name']\n",
    "    values['actor_2'] = response_json['cast'][1]['name']\n",
    "    values['director'] = response_json['crew']['director'][0]['name']\n",
    "    values['writer'] = response_json['crew']['writer'][0]['name']\n",
    "\n",
    "    return values\n"
   ]
  },
  {
   "cell_type": "code",
   "execution_count": 10,
   "metadata": {},
   "outputs": [
    {
     "data": {
      "text/plain": [
       "385680446"
      ]
     },
     "execution_count": 10,
     "metadata": {},
     "output_type": "execute_result"
    }
   ],
   "source": [
    "\n",
    "\n",
    "url = \"https://imdb8.p.rapidapi.com/title/get-business\"\n",
    "\n",
    "querystring = {\"tconst\":\"tt0796366\"}\n",
    "\n",
    "headers = {\n",
    "    'x-rapidapi-host': \"imdb8.p.rapidapi.com\",\n",
    "    'x-rapidapi-key': \"bdc2d05badmsh9afadba2f12e067p1e1e49jsn9596022c7263\"\n",
    "    }\n",
    "\n",
    "response = requests.request(\"GET\", url, headers=headers, params=querystring)\n",
    "response_json = json.loads(response.text)\n",
    "budget = response_json['resource']['budget']['amount']\n",
    "gross = response_json['resource']['gross']['aggregations'][0]['total']['amount']\n",
    "\n",
    "\n",
    "\n",
    "\n",
    "\n"
   ]
  },
  {
   "cell_type": "code",
   "execution_count": 6,
   "metadata": {},
   "outputs": [
    {
     "name": "stdout",
     "output_type": "stream",
     "text": [
      "Dune\n",
      "{'image_url': 'https://m.media-amazon.com/images/M/MV5BN2FjNmEyNWMtYzM0ZS00NjIyLTg5YzYtYThlMGVjNzE1OGViXkEyXkFqcGdeQXVyMTkxNjUyNQ@@._V1_.jpg', 'duration': 155, 'year': 2021, 'rating': 8.2, 'ratingCount': 334971, 'genres': 'Action, Adventure, Drama, Sci-Fi', 'actor_1': 'Timothée Chalamet', 'actor_2': 'Rebecca Ferguson', 'director': 'Denis Villeneuve', 'writer': 'Jon Spaihts'}\n"
     ]
    }
   ],
   "source": [
    "import requests\n",
    "\n",
    "def get_meta_data(query):\n",
    "\n",
    "    url = \"https://imdb8.p.rapidapi.com/title/get-meta-data\"\n",
    "\n",
    "    imdb_id = get_id(query)\n",
    "\n",
    "    querystring = {\"ids\":imdb_id,\"region\":\"US\"}\n",
    "\n",
    "    headers = {\n",
    "        'x-rapidapi-host': \"imdb8.p.rapidapi.com\",\n",
    "        'x-rapidapi-key': \"bdc2d05badmsh9afadba2f12e067p1e1e49jsn9596022c7263\"\n",
    "        }\n",
    "\n",
    "    response = requests.request(\"GET\", url, headers=headers, params=querystring)\n",
    "    response_json = json.loads(response.text)\n",
    "\n",
    "    values = dict()\n",
    "    title = response_json[imdb_id]['title']['title']\n",
    "    values['title'] = title\n",
    "    image_url = response_json[imdb_id]['title']['image']['url']\n",
    "    values['image_url'] = image_url\n",
    "    duration = response_json[imdb_id]['title']['runningTimeInMinutes']\n",
    "    values['duration'] = duration\n",
    "    year = response_json[imdb_id]['title']['year']\n",
    "    values['year'] = year\n",
    "    rating = response_json[imdb_id]['ratings']['rating']\n",
    "    values['rating'] = rating\n",
    "    ratingCount = response_json[imdb_id]['ratings']['ratingCount']\n",
    "    values['ratingCount'] = ratingCount\n",
    "    genres = \"\"\n",
    "    for genre in response_json[imdb_id]['genres']:\n",
    "        genres = genres + genre + \", \"\n",
    "    genres = genres.rstrip(\", \")\n",
    "    values['genres'] = genres\n",
    "\n",
    "    values = add_people(values, imdb_id)\n",
    "    return values\n"
   ]
  }
 ],
 "metadata": {
  "interpreter": {
   "hash": "651c3b7b3f466eb030aa737f279c846be4db9cba49a2f229278cab5e41121ed5"
  },
  "kernelspec": {
   "display_name": "Python 3.8.8 64-bit ('base': conda)",
   "language": "python",
   "name": "python3"
  },
  "language_info": {
   "codemirror_mode": {
    "name": "ipython",
    "version": 3
   },
   "file_extension": ".py",
   "mimetype": "text/x-python",
   "name": "python",
   "nbconvert_exporter": "python",
   "pygments_lexer": "ipython3",
   "version": "3.8.8"
  },
  "orig_nbformat": 4
 },
 "nbformat": 4,
 "nbformat_minor": 2
}
