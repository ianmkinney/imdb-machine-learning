{
 "cells": [
  {
   "cell_type": "code",
   "execution_count": 2,
   "metadata": {},
   "outputs": [],
   "source": [
    "import pandas as pd\n",
    "import numpy as np"
   ]
  },
  {
   "cell_type": "code",
   "execution_count": 3,
   "metadata": {},
   "outputs": [
    {
     "data": {
      "text/plain": [
       "85855"
      ]
     },
     "execution_count": 3,
     "metadata": {},
     "output_type": "execute_result"
    }
   ],
   "source": [
    "# The path to our CSV file\n",
    "file = \"Resources/IMDb movies.csv\"\n",
    "\n",
    "# Read our Kickstarter data into pandas\n",
    "movies_df = pd.read_csv(file, low_memory=False)\n",
    "len(movies_df)"
   ]
  },
  {
   "cell_type": "code",
   "execution_count": 4,
   "metadata": {},
   "outputs": [
    {
     "data": {
      "text/plain": [
       "85855"
      ]
     },
     "execution_count": 4,
     "metadata": {},
     "output_type": "execute_result"
    }
   ],
   "source": [
    "# The path to our CSV file\n",
    "file = \"Resources/IMDb ratings.csv\"\n",
    "\n",
    "# Read our Kickstarter data into pandas\n",
    "ratings_df = pd.read_csv(file)\n",
    "len(ratings_df)"
   ]
  },
  {
   "cell_type": "code",
   "execution_count": 5,
   "metadata": {},
   "outputs": [
    {
     "data": {
      "text/plain": [
       "85855"
      ]
     },
     "execution_count": 5,
     "metadata": {},
     "output_type": "execute_result"
    }
   ],
   "source": [
    "merged_df = pd.merge(movies_df, ratings_df, on='imdb_title_id')\n",
    "len(merged_df)"
   ]
  },
  {
   "cell_type": "code",
   "execution_count": 6,
   "metadata": {},
   "outputs": [
    {
     "data": {
      "text/plain": [
       "Index(['imdb_title_id', 'title', 'original_title', 'year', 'date_published',\n",
       "       'genre', 'duration', 'country', 'language', 'director', 'writer',\n",
       "       'production_company', 'actors', 'description', 'avg_vote', 'votes',\n",
       "       'budget', 'usa_gross_income', 'worlwide_gross_income', 'metascore',\n",
       "       'reviews_from_users', 'reviews_from_critics', 'weighted_average_vote',\n",
       "       'total_votes', 'mean_vote', 'median_vote', 'votes_10', 'votes_9',\n",
       "       'votes_8', 'votes_7', 'votes_6', 'votes_5', 'votes_4', 'votes_3',\n",
       "       'votes_2', 'votes_1', 'allgenders_0age_avg_vote',\n",
       "       'allgenders_0age_votes', 'allgenders_18age_avg_vote',\n",
       "       'allgenders_18age_votes', 'allgenders_30age_avg_vote',\n",
       "       'allgenders_30age_votes', 'allgenders_45age_avg_vote',\n",
       "       'allgenders_45age_votes', 'males_allages_avg_vote',\n",
       "       'males_allages_votes', 'males_0age_avg_vote', 'males_0age_votes',\n",
       "       'males_18age_avg_vote', 'males_18age_votes', 'males_30age_avg_vote',\n",
       "       'males_30age_votes', 'males_45age_avg_vote', 'males_45age_votes',\n",
       "       'females_allages_avg_vote', 'females_allages_votes',\n",
       "       'females_0age_avg_vote', 'females_0age_votes', 'females_18age_avg_vote',\n",
       "       'females_18age_votes', 'females_30age_avg_vote', 'females_30age_votes',\n",
       "       'females_45age_avg_vote', 'females_45age_votes',\n",
       "       'top1000_voters_rating', 'top1000_voters_votes', 'us_voters_rating',\n",
       "       'us_voters_votes', 'non_us_voters_rating', 'non_us_voters_votes'],\n",
       "      dtype='object')"
      ]
     },
     "execution_count": 6,
     "metadata": {},
     "output_type": "execute_result"
    }
   ],
   "source": [
    "merged_df.columns"
   ]
  },
  {
   "cell_type": "code",
   "execution_count": 7,
   "metadata": {},
   "outputs": [
    {
     "data": {
      "text/html": [
       "<div>\n",
       "<style scoped>\n",
       "    .dataframe tbody tr th:only-of-type {\n",
       "        vertical-align: middle;\n",
       "    }\n",
       "\n",
       "    .dataframe tbody tr th {\n",
       "        vertical-align: top;\n",
       "    }\n",
       "\n",
       "    .dataframe thead th {\n",
       "        text-align: right;\n",
       "    }\n",
       "</style>\n",
       "<table border=\"1\" class=\"dataframe\">\n",
       "  <thead>\n",
       "    <tr style=\"text-align: right;\">\n",
       "      <th></th>\n",
       "      <th>imdb_title_id</th>\n",
       "      <th>title</th>\n",
       "      <th>original_title</th>\n",
       "      <th>year</th>\n",
       "      <th>date_published</th>\n",
       "      <th>genre</th>\n",
       "      <th>duration</th>\n",
       "      <th>country</th>\n",
       "      <th>language</th>\n",
       "      <th>director</th>\n",
       "      <th>...</th>\n",
       "      <th>reviews_from_critics</th>\n",
       "      <th>weighted_average_vote</th>\n",
       "      <th>total_votes</th>\n",
       "      <th>mean_vote</th>\n",
       "      <th>median_vote</th>\n",
       "      <th>males_allages_avg_vote</th>\n",
       "      <th>males_allages_votes</th>\n",
       "      <th>females_allages_avg_vote</th>\n",
       "      <th>us_voters_rating</th>\n",
       "      <th>us_voters_votes</th>\n",
       "    </tr>\n",
       "  </thead>\n",
       "  <tbody>\n",
       "    <tr>\n",
       "      <th>0</th>\n",
       "      <td>tt0000009</td>\n",
       "      <td>Miss Jerry</td>\n",
       "      <td>Miss Jerry</td>\n",
       "      <td>1894</td>\n",
       "      <td>1894-10-09</td>\n",
       "      <td>Romance</td>\n",
       "      <td>45</td>\n",
       "      <td>USA</td>\n",
       "      <td>None</td>\n",
       "      <td>Alexander Black</td>\n",
       "      <td>...</td>\n",
       "      <td>2.0</td>\n",
       "      <td>5.9</td>\n",
       "      <td>154</td>\n",
       "      <td>5.9</td>\n",
       "      <td>6.0</td>\n",
       "      <td>6.2</td>\n",
       "      <td>97.0</td>\n",
       "      <td>6.0</td>\n",
       "      <td>6.4</td>\n",
       "      <td>51.0</td>\n",
       "    </tr>\n",
       "    <tr>\n",
       "      <th>1</th>\n",
       "      <td>tt0000574</td>\n",
       "      <td>The Story of the Kelly Gang</td>\n",
       "      <td>The Story of the Kelly Gang</td>\n",
       "      <td>1906</td>\n",
       "      <td>1906-12-26</td>\n",
       "      <td>Biography, Crime, Drama</td>\n",
       "      <td>70</td>\n",
       "      <td>Australia</td>\n",
       "      <td>None</td>\n",
       "      <td>Charles Tait</td>\n",
       "      <td>...</td>\n",
       "      <td>7.0</td>\n",
       "      <td>6.1</td>\n",
       "      <td>589</td>\n",
       "      <td>6.3</td>\n",
       "      <td>6.0</td>\n",
       "      <td>6.1</td>\n",
       "      <td>425.0</td>\n",
       "      <td>6.2</td>\n",
       "      <td>6.0</td>\n",
       "      <td>96.0</td>\n",
       "    </tr>\n",
       "    <tr>\n",
       "      <th>2</th>\n",
       "      <td>tt0001892</td>\n",
       "      <td>Den sorte drøm</td>\n",
       "      <td>Den sorte drøm</td>\n",
       "      <td>1911</td>\n",
       "      <td>1911-08-19</td>\n",
       "      <td>Drama</td>\n",
       "      <td>53</td>\n",
       "      <td>Germany, Denmark</td>\n",
       "      <td>NaN</td>\n",
       "      <td>Urban Gad</td>\n",
       "      <td>...</td>\n",
       "      <td>2.0</td>\n",
       "      <td>5.8</td>\n",
       "      <td>188</td>\n",
       "      <td>6.0</td>\n",
       "      <td>6.0</td>\n",
       "      <td>5.9</td>\n",
       "      <td>146.0</td>\n",
       "      <td>5.7</td>\n",
       "      <td>6.2</td>\n",
       "      <td>31.0</td>\n",
       "    </tr>\n",
       "    <tr>\n",
       "      <th>3</th>\n",
       "      <td>tt0002101</td>\n",
       "      <td>Cleopatra</td>\n",
       "      <td>Cleopatra</td>\n",
       "      <td>1912</td>\n",
       "      <td>1912-11-13</td>\n",
       "      <td>Drama, History</td>\n",
       "      <td>100</td>\n",
       "      <td>USA</td>\n",
       "      <td>English</td>\n",
       "      <td>Charles L. Gaskill</td>\n",
       "      <td>...</td>\n",
       "      <td>3.0</td>\n",
       "      <td>5.2</td>\n",
       "      <td>446</td>\n",
       "      <td>5.3</td>\n",
       "      <td>5.0</td>\n",
       "      <td>5.1</td>\n",
       "      <td>299.0</td>\n",
       "      <td>5.9</td>\n",
       "      <td>5.5</td>\n",
       "      <td>207.0</td>\n",
       "    </tr>\n",
       "    <tr>\n",
       "      <th>4</th>\n",
       "      <td>tt0002130</td>\n",
       "      <td>L'Inferno</td>\n",
       "      <td>L'Inferno</td>\n",
       "      <td>1911</td>\n",
       "      <td>1911-03-06</td>\n",
       "      <td>Adventure, Drama, Fantasy</td>\n",
       "      <td>68</td>\n",
       "      <td>Italy</td>\n",
       "      <td>Italian</td>\n",
       "      <td>Francesco Bertolini, Adolfo Padovan</td>\n",
       "      <td>...</td>\n",
       "      <td>14.0</td>\n",
       "      <td>7.0</td>\n",
       "      <td>2237</td>\n",
       "      <td>6.9</td>\n",
       "      <td>7.0</td>\n",
       "      <td>7.0</td>\n",
       "      <td>1607.0</td>\n",
       "      <td>7.2</td>\n",
       "      <td>7.0</td>\n",
       "      <td>488.0</td>\n",
       "    </tr>\n",
       "  </tbody>\n",
       "</table>\n",
       "<p>5 rows × 31 columns</p>\n",
       "</div>"
      ],
      "text/plain": [
       "  imdb_title_id                        title               original_title  \\\n",
       "0     tt0000009                   Miss Jerry                   Miss Jerry   \n",
       "1     tt0000574  The Story of the Kelly Gang  The Story of the Kelly Gang   \n",
       "2     tt0001892               Den sorte drøm               Den sorte drøm   \n",
       "3     tt0002101                    Cleopatra                    Cleopatra   \n",
       "4     tt0002130                    L'Inferno                    L'Inferno   \n",
       "\n",
       "   year date_published                      genre  duration           country  \\\n",
       "0  1894     1894-10-09                    Romance        45               USA   \n",
       "1  1906     1906-12-26    Biography, Crime, Drama        70         Australia   \n",
       "2  1911     1911-08-19                      Drama        53  Germany, Denmark   \n",
       "3  1912     1912-11-13             Drama, History       100               USA   \n",
       "4  1911     1911-03-06  Adventure, Drama, Fantasy        68             Italy   \n",
       "\n",
       "  language                             director  ... reviews_from_critics  \\\n",
       "0     None                      Alexander Black  ...                  2.0   \n",
       "1     None                         Charles Tait  ...                  7.0   \n",
       "2      NaN                            Urban Gad  ...                  2.0   \n",
       "3  English                   Charles L. Gaskill  ...                  3.0   \n",
       "4  Italian  Francesco Bertolini, Adolfo Padovan  ...                 14.0   \n",
       "\n",
       "  weighted_average_vote total_votes mean_vote  median_vote  \\\n",
       "0                   5.9         154       5.9          6.0   \n",
       "1                   6.1         589       6.3          6.0   \n",
       "2                   5.8         188       6.0          6.0   \n",
       "3                   5.2         446       5.3          5.0   \n",
       "4                   7.0        2237       6.9          7.0   \n",
       "\n",
       "   males_allages_avg_vote males_allages_votes females_allages_avg_vote  \\\n",
       "0                     6.2                97.0                      6.0   \n",
       "1                     6.1               425.0                      6.2   \n",
       "2                     5.9               146.0                      5.7   \n",
       "3                     5.1               299.0                      5.9   \n",
       "4                     7.0              1607.0                      7.2   \n",
       "\n",
       "  us_voters_rating  us_voters_votes  \n",
       "0              6.4             51.0  \n",
       "1              6.0             96.0  \n",
       "2              6.2             31.0  \n",
       "3              5.5            207.0  \n",
       "4              7.0            488.0  \n",
       "\n",
       "[5 rows x 31 columns]"
      ]
     },
     "execution_count": 7,
     "metadata": {},
     "output_type": "execute_result"
    }
   ],
   "source": [
    "merged_df = merged_df[['imdb_title_id', 'title', 'original_title', 'year', 'date_published',\n",
    "       'genre', 'duration', 'country', 'language', 'director', 'writer',\n",
    "       'production_company', 'actors', 'description', 'avg_vote', 'votes',\n",
    "       'budget', 'usa_gross_income', 'worlwide_gross_income', 'metascore',\n",
    "       'reviews_from_users', 'reviews_from_critics', 'weighted_average_vote',\n",
    "       'total_votes', 'mean_vote', 'median_vote', 'males_allages_avg_vote',\n",
    "       'males_allages_votes','females_allages_avg_vote','us_voters_rating',\n",
    "       'us_voters_votes']]\n",
    "merged_df.head()"
   ]
  },
  {
   "cell_type": "code",
   "execution_count": 8,
   "metadata": {},
   "outputs": [
    {
     "data": {
      "text/plain": [
       "28511"
      ]
     },
     "execution_count": 8,
     "metadata": {},
     "output_type": "execute_result"
    }
   ],
   "source": [
    "# Get only \n",
    "usa_df = merged_df[merged_df['country'] == 'USA']\n",
    "len(usa_df)"
   ]
  },
  {
   "cell_type": "code",
   "execution_count": 29,
   "metadata": {},
   "outputs": [
    {
     "data": {
      "text/plain": [
       "10476"
      ]
     },
     "execution_count": 29,
     "metadata": {},
     "output_type": "execute_result"
    }
   ],
   "source": [
    "# Get only movies that were released past 2005\n",
    "recent_df = usa_df[usa_df['year'].str.len() == 4]\n",
    "recent_df = recent_df[recent_df['year'].astype(int) > 2005]\n",
    "len(recent_df)"
   ]
  },
  {
   "cell_type": "code",
   "execution_count": 30,
   "metadata": {},
   "outputs": [
    {
     "data": {
      "text/plain": [
       "10475"
      ]
     },
     "execution_count": 30,
     "metadata": {},
     "output_type": "execute_result"
    }
   ],
   "source": [
    "# get rid of Reality TV\n",
    "recent_df = recent_df[recent_df['genre'].str.contains('Reality-TV') == False]\n",
    "\n",
    "# Fix budget string to number\n",
    "recent_df['budget'] = recent_df['budget'].str.extract('(\\d+)', expand=False)\n",
    "recent_df['budget'] = recent_df['budget'].fillna(0)\n",
    "recent_df['budget'] = recent_df['budget'].astype(int)\n",
    "\n",
    "recent_df['lead_actor'] = recent_df['actors'].str.split(',').str[0]\n",
    "recent_df['lead_director'] = recent_df['director'].str.split(',').str[0]\n",
    "recent_df['lead_writer'] = recent_df['actors'].str.split(',').str[0]\n",
    "recent_df['lead_actor'] = recent_df['lead_actor'].fillna(0)\n",
    "recent_df['lead_director'] = recent_df['lead_director'].fillna(0)\n",
    "recent_df['lead_writer'] = recent_df['lead_writer'].fillna(0)\n",
    "\n",
    "recent_df.dropna(axis=1, inplace=True)\n",
    "len(recent_df)"
   ]
  },
  {
   "cell_type": "code",
   "execution_count": 54,
   "metadata": {},
   "outputs": [
    {
     "data": {
      "text/plain": [
       "Index(['imdb_title_id', 'title', 'original_title', 'year', 'date_published',\n",
       "       'genre', 'duration', 'country', 'avg_vote', 'votes', 'budget',\n",
       "       'weighted_average_vote', 'total_votes', 'mean_vote', 'median_vote',\n",
       "       'females_allages_avg_vote', 'lead_actor', 'lead_director',\n",
       "       'lead_writer'],\n",
       "      dtype='object')"
      ]
     },
     "execution_count": 54,
     "metadata": {},
     "output_type": "execute_result"
    }
   ],
   "source": [
    "recent_df.columns"
   ]
  },
  {
   "cell_type": "code",
   "execution_count": 57,
   "metadata": {},
   "outputs": [
    {
     "data": {
      "text/html": [
       "<div>\n",
       "<style scoped>\n",
       "    .dataframe tbody tr th:only-of-type {\n",
       "        vertical-align: middle;\n",
       "    }\n",
       "\n",
       "    .dataframe tbody tr th {\n",
       "        vertical-align: top;\n",
       "    }\n",
       "\n",
       "    .dataframe thead th {\n",
       "        text-align: right;\n",
       "    }\n",
       "</style>\n",
       "<table border=\"1\" class=\"dataframe\">\n",
       "  <thead>\n",
       "    <tr style=\"text-align: right;\">\n",
       "      <th></th>\n",
       "      <th>actor_number</th>\n",
       "      <th>lead_actor</th>\n",
       "    </tr>\n",
       "  </thead>\n",
       "  <tbody>\n",
       "    <tr>\n",
       "      <th>0</th>\n",
       "      <td>0</td>\n",
       "      <td>Eric Roberts</td>\n",
       "    </tr>\n",
       "    <tr>\n",
       "      <th>1</th>\n",
       "      <td>1</td>\n",
       "      <td>Adam Sandler</td>\n",
       "    </tr>\n",
       "    <tr>\n",
       "      <th>2</th>\n",
       "      <td>2</td>\n",
       "      <td>Nicolas Cage</td>\n",
       "    </tr>\n",
       "    <tr>\n",
       "      <th>3</th>\n",
       "      <td>3</td>\n",
       "      <td>Danny Trejo</td>\n",
       "    </tr>\n",
       "    <tr>\n",
       "      <th>4</th>\n",
       "      <td>4</td>\n",
       "      <td>James Franco</td>\n",
       "    </tr>\n",
       "  </tbody>\n",
       "</table>\n",
       "</div>"
      ],
      "text/plain": [
       "   actor_number    lead_actor\n",
       "0             0  Eric Roberts\n",
       "1             1  Adam Sandler\n",
       "2             2  Nicolas Cage\n",
       "3             3   Danny Trejo\n",
       "4             4  James Franco"
      ]
     },
     "execution_count": 57,
     "metadata": {},
     "output_type": "execute_result"
    }
   ],
   "source": [
    "actor_df = pd.DataFrame(recent_df['lead_actor'].value_counts()).reset_index().reset_index()\n",
    "actor_df.drop('lead_actor', axis=1, inplace=True)\n",
    "actor_df.rename(columns={\"level_0\": \"actor_number\", \"index\": \"lead_actor\"}, inplace=True)\n",
    "recent_df.to_csv('people_codes/actors.csv')\n",
    "actor_df.head()"
   ]
  },
  {
   "cell_type": "code",
   "execution_count": 58,
   "metadata": {},
   "outputs": [
    {
     "data": {
      "text/plain": [
       "Index(['imdb_title_id', 'title', 'original_title', 'year', 'date_published',\n",
       "       'genre', 'duration', 'country', 'avg_vote', 'votes', 'budget',\n",
       "       'weighted_average_vote', 'total_votes', 'mean_vote', 'median_vote',\n",
       "       'females_allages_avg_vote', 'lead_actor', 'lead_director',\n",
       "       'lead_writer', 'actor_number'],\n",
       "      dtype='object')"
      ]
     },
     "execution_count": 58,
     "metadata": {},
     "output_type": "execute_result"
    }
   ],
   "source": [
    "\n",
    "recent_df = pd.merge(recent_df, actor_df, on=\"lead_actor\")\n",
    "recent_df.columns"
   ]
  },
  {
   "cell_type": "code",
   "execution_count": 59,
   "metadata": {},
   "outputs": [
    {
     "data": {
      "text/plain": [
       "Home                    5\n",
       "Alone                   4\n",
       "Dreamland               4\n",
       "Shelter                 4\n",
       "Delirium                3\n",
       "                       ..\n",
       "Sound of My Voice       1\n",
       "Ninja Cheerleaders      1\n",
       "Hot Pursuit             1\n",
       "A Life Not to Follow    1\n",
       "Blood Brother           1\n",
       "Name: original_title, Length: 10258, dtype: int64"
      ]
     },
     "execution_count": 59,
     "metadata": {},
     "output_type": "execute_result"
    }
   ],
   "source": [
    "recent_df['original_title'].value_counts()"
   ]
  },
  {
   "cell_type": "code",
   "execution_count": 60,
   "metadata": {},
   "outputs": [
    {
     "data": {
      "text/html": [
       "<div>\n",
       "<style scoped>\n",
       "    .dataframe tbody tr th:only-of-type {\n",
       "        vertical-align: middle;\n",
       "    }\n",
       "\n",
       "    .dataframe tbody tr th {\n",
       "        vertical-align: top;\n",
       "    }\n",
       "\n",
       "    .dataframe thead th {\n",
       "        text-align: right;\n",
       "    }\n",
       "</style>\n",
       "<table border=\"1\" class=\"dataframe\">\n",
       "  <thead>\n",
       "    <tr style=\"text-align: right;\">\n",
       "      <th></th>\n",
       "      <th>imdb_title_id</th>\n",
       "      <th>title</th>\n",
       "      <th>original_title</th>\n",
       "      <th>year</th>\n",
       "      <th>date_published</th>\n",
       "      <th>genre</th>\n",
       "      <th>duration</th>\n",
       "      <th>country</th>\n",
       "      <th>avg_vote</th>\n",
       "      <th>votes</th>\n",
       "      <th>budget</th>\n",
       "      <th>weighted_average_vote</th>\n",
       "      <th>total_votes</th>\n",
       "      <th>mean_vote</th>\n",
       "      <th>median_vote</th>\n",
       "      <th>females_allages_avg_vote</th>\n",
       "      <th>lead_actor</th>\n",
       "      <th>lead_director</th>\n",
       "      <th>lead_writer</th>\n",
       "      <th>actor_number</th>\n",
       "    </tr>\n",
       "  </thead>\n",
       "  <tbody>\n",
       "    <tr>\n",
       "      <th>2484</th>\n",
       "      <td>tt0822388</td>\n",
       "      <td>Home</td>\n",
       "      <td>Home</td>\n",
       "      <td>2008</td>\n",
       "      <td>2008-08-23</td>\n",
       "      <td>Drama</td>\n",
       "      <td>84</td>\n",
       "      <td>USA</td>\n",
       "      <td>5.8</td>\n",
       "      <td>175</td>\n",
       "      <td>500000</td>\n",
       "      <td>5.8</td>\n",
       "      <td>175</td>\n",
       "      <td>6.1</td>\n",
       "      <td>6.0</td>\n",
       "      <td>5.6</td>\n",
       "      <td>Reathel Bean</td>\n",
       "      <td>Mary Haverstick</td>\n",
       "      <td>Reathel Bean</td>\n",
       "      <td>1615</td>\n",
       "    </tr>\n",
       "    <tr>\n",
       "      <th>5766</th>\n",
       "      <td>tt2224026</td>\n",
       "      <td>Home - A casa</td>\n",
       "      <td>Home</td>\n",
       "      <td>2015</td>\n",
       "      <td>2015-03-26</td>\n",
       "      <td>Animation, Adventure, Comedy</td>\n",
       "      <td>94</td>\n",
       "      <td>USA</td>\n",
       "      <td>6.6</td>\n",
       "      <td>90310</td>\n",
       "      <td>135000000</td>\n",
       "      <td>6.6</td>\n",
       "      <td>90310</td>\n",
       "      <td>6.9</td>\n",
       "      <td>7.0</td>\n",
       "      <td>7.1</td>\n",
       "      <td>Jim Parsons</td>\n",
       "      <td>Tim Johnson</td>\n",
       "      <td>Jim Parsons</td>\n",
       "      <td>723</td>\n",
       "    </tr>\n",
       "    <tr>\n",
       "      <th>7263</th>\n",
       "      <td>tt2393825</td>\n",
       "      <td>Home</td>\n",
       "      <td>Home</td>\n",
       "      <td>2013</td>\n",
       "      <td>2013-11-22</td>\n",
       "      <td>Drama</td>\n",
       "      <td>112</td>\n",
       "      <td>USA</td>\n",
       "      <td>7.0</td>\n",
       "      <td>145</td>\n",
       "      <td>0</td>\n",
       "      <td>7.0</td>\n",
       "      <td>145</td>\n",
       "      <td>7.5</td>\n",
       "      <td>8.0</td>\n",
       "      <td>7.7</td>\n",
       "      <td>Isiah Whitlock Jr.</td>\n",
       "      <td>Jono Oliver</td>\n",
       "      <td>Isiah Whitlock Jr.</td>\n",
       "      <td>2007</td>\n",
       "    </tr>\n",
       "    <tr>\n",
       "      <th>7448</th>\n",
       "      <td>tt2545384</td>\n",
       "      <td>Home</td>\n",
       "      <td>Home</td>\n",
       "      <td>2016</td>\n",
       "      <td>2016-03-01</td>\n",
       "      <td>Drama, Horror, Thriller</td>\n",
       "      <td>87</td>\n",
       "      <td>USA</td>\n",
       "      <td>3.9</td>\n",
       "      <td>344</td>\n",
       "      <td>0</td>\n",
       "      <td>3.9</td>\n",
       "      <td>344</td>\n",
       "      <td>4.2</td>\n",
       "      <td>4.0</td>\n",
       "      <td>4.1</td>\n",
       "      <td>Heather Langenkamp</td>\n",
       "      <td>Frank Lin</td>\n",
       "      <td>Heather Langenkamp</td>\n",
       "      <td>5910</td>\n",
       "    </tr>\n",
       "    <tr>\n",
       "      <th>7512</th>\n",
       "      <td>tt2597242</td>\n",
       "      <td>Oltre il male</td>\n",
       "      <td>Home</td>\n",
       "      <td>2014</td>\n",
       "      <td>2014-08-08</td>\n",
       "      <td>Horror</td>\n",
       "      <td>91</td>\n",
       "      <td>USA</td>\n",
       "      <td>4.8</td>\n",
       "      <td>6758</td>\n",
       "      <td>0</td>\n",
       "      <td>4.8</td>\n",
       "      <td>6758</td>\n",
       "      <td>4.9</td>\n",
       "      <td>5.0</td>\n",
       "      <td>4.7</td>\n",
       "      <td>Ashley Rickards</td>\n",
       "      <td>Nicholas McCarthy</td>\n",
       "      <td>Ashley Rickards</td>\n",
       "      <td>1359</td>\n",
       "    </tr>\n",
       "  </tbody>\n",
       "</table>\n",
       "</div>"
      ],
      "text/plain": [
       "     imdb_title_id          title original_title  year date_published  \\\n",
       "2484     tt0822388           Home           Home  2008     2008-08-23   \n",
       "5766     tt2224026  Home - A casa           Home  2015     2015-03-26   \n",
       "7263     tt2393825           Home           Home  2013     2013-11-22   \n",
       "7448     tt2545384           Home           Home  2016     2016-03-01   \n",
       "7512     tt2597242  Oltre il male           Home  2014     2014-08-08   \n",
       "\n",
       "                             genre  duration country  avg_vote  votes  \\\n",
       "2484                         Drama        84     USA       5.8    175   \n",
       "5766  Animation, Adventure, Comedy        94     USA       6.6  90310   \n",
       "7263                         Drama       112     USA       7.0    145   \n",
       "7448       Drama, Horror, Thriller        87     USA       3.9    344   \n",
       "7512                        Horror        91     USA       4.8   6758   \n",
       "\n",
       "         budget  weighted_average_vote  total_votes  mean_vote  median_vote  \\\n",
       "2484     500000                    5.8          175        6.1          6.0   \n",
       "5766  135000000                    6.6        90310        6.9          7.0   \n",
       "7263          0                    7.0          145        7.5          8.0   \n",
       "7448          0                    3.9          344        4.2          4.0   \n",
       "7512          0                    4.8         6758        4.9          5.0   \n",
       "\n",
       "      females_allages_avg_vote          lead_actor      lead_director  \\\n",
       "2484                       5.6        Reathel Bean    Mary Haverstick   \n",
       "5766                       7.1         Jim Parsons        Tim Johnson   \n",
       "7263                       7.7  Isiah Whitlock Jr.        Jono Oliver   \n",
       "7448                       4.1  Heather Langenkamp          Frank Lin   \n",
       "7512                       4.7     Ashley Rickards  Nicholas McCarthy   \n",
       "\n",
       "             lead_writer  actor_number  \n",
       "2484        Reathel Bean          1615  \n",
       "5766         Jim Parsons           723  \n",
       "7263  Isiah Whitlock Jr.          2007  \n",
       "7448  Heather Langenkamp          5910  \n",
       "7512     Ashley Rickards          1359  "
      ]
     },
     "execution_count": 60,
     "metadata": {},
     "output_type": "execute_result"
    }
   ],
   "source": [
    "test_df = recent_df[recent_df['original_title'] == 'Home']\n",
    "test_df"
   ]
  },
  {
   "cell_type": "code",
   "execution_count": 61,
   "metadata": {},
   "outputs": [],
   "source": [
    "recent_df.to_csv('Sample/sample.csv')"
   ]
  }
 ],
 "metadata": {
  "interpreter": {
   "hash": "651c3b7b3f466eb030aa737f279c846be4db9cba49a2f229278cab5e41121ed5"
  },
  "kernelspec": {
   "display_name": "Python 3.8.8 64-bit ('base': conda)",
   "language": "python",
   "name": "python3"
  },
  "language_info": {
   "codemirror_mode": {
    "name": "ipython",
    "version": 3
   },
   "file_extension": ".py",
   "mimetype": "text/x-python",
   "name": "python",
   "nbconvert_exporter": "python",
   "pygments_lexer": "ipython3",
   "version": "3.8.8"
  },
  "orig_nbformat": 4
 },
 "nbformat": 4,
 "nbformat_minor": 2
}
