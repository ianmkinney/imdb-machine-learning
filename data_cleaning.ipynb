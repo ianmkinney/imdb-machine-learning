{
 "cells": [
  {
   "cell_type": "code",
   "execution_count": 57,
   "metadata": {},
   "outputs": [],
   "source": [
    "import pandas as pd\n",
    "import numpy as np"
   ]
  },
  {
   "cell_type": "code",
   "execution_count": 58,
   "metadata": {},
   "outputs": [
    {
     "data": {
      "text/plain": [
       "85855"
      ]
     },
     "execution_count": 58,
     "metadata": {},
     "output_type": "execute_result"
    }
   ],
   "source": [
    "# The path to our CSV file\n",
    "file = \"Resources/IMDb movies.csv\"\n",
    "\n",
    "# Read our Kickstarter data into pandas\n",
    "movies_df = pd.read_csv(file, low_memory=False)\n",
    "len(movies_df)"
   ]
  },
  {
   "cell_type": "code",
   "execution_count": 59,
   "metadata": {},
   "outputs": [
    {
     "data": {
      "text/plain": [
       "85855"
      ]
     },
     "execution_count": 59,
     "metadata": {},
     "output_type": "execute_result"
    }
   ],
   "source": [
    "# The path to our CSV file\n",
    "file = \"Resources/IMDb ratings.csv\"\n",
    "\n",
    "# Read our Kickstarter data into pandas\n",
    "ratings_df = pd.read_csv(file)\n",
    "len(ratings_df)"
   ]
  },
  {
   "cell_type": "code",
   "execution_count": 60,
   "metadata": {},
   "outputs": [
    {
     "data": {
      "text/plain": [
       "85855"
      ]
     },
     "execution_count": 60,
     "metadata": {},
     "output_type": "execute_result"
    }
   ],
   "source": [
    "merged_df = pd.merge(movies_df, ratings_df, on='imdb_title_id')\n",
    "len(merged_df)"
   ]
  },
  {
   "cell_type": "code",
   "execution_count": 61,
   "metadata": {},
   "outputs": [
    {
     "data": {
      "text/plain": [
       "Index(['imdb_title_id', 'title', 'original_title', 'year', 'date_published',\n",
       "       'genre', 'duration', 'country', 'language', 'director', 'writer',\n",
       "       'production_company', 'actors', 'description', 'avg_vote', 'votes',\n",
       "       'budget', 'usa_gross_income', 'worlwide_gross_income', 'metascore',\n",
       "       'reviews_from_users', 'reviews_from_critics', 'weighted_average_vote',\n",
       "       'total_votes', 'mean_vote', 'median_vote', 'votes_10', 'votes_9',\n",
       "       'votes_8', 'votes_7', 'votes_6', 'votes_5', 'votes_4', 'votes_3',\n",
       "       'votes_2', 'votes_1', 'allgenders_0age_avg_vote',\n",
       "       'allgenders_0age_votes', 'allgenders_18age_avg_vote',\n",
       "       'allgenders_18age_votes', 'allgenders_30age_avg_vote',\n",
       "       'allgenders_30age_votes', 'allgenders_45age_avg_vote',\n",
       "       'allgenders_45age_votes', 'males_allages_avg_vote',\n",
       "       'males_allages_votes', 'males_0age_avg_vote', 'males_0age_votes',\n",
       "       'males_18age_avg_vote', 'males_18age_votes', 'males_30age_avg_vote',\n",
       "       'males_30age_votes', 'males_45age_avg_vote', 'males_45age_votes',\n",
       "       'females_allages_avg_vote', 'females_allages_votes',\n",
       "       'females_0age_avg_vote', 'females_0age_votes', 'females_18age_avg_vote',\n",
       "       'females_18age_votes', 'females_30age_avg_vote', 'females_30age_votes',\n",
       "       'females_45age_avg_vote', 'females_45age_votes',\n",
       "       'top1000_voters_rating', 'top1000_voters_votes', 'us_voters_rating',\n",
       "       'us_voters_votes', 'non_us_voters_rating', 'non_us_voters_votes'],\n",
       "      dtype='object')"
      ]
     },
     "execution_count": 61,
     "metadata": {},
     "output_type": "execute_result"
    }
   ],
   "source": [
    "merged_df.columns"
   ]
  },
  {
   "cell_type": "code",
   "execution_count": 62,
   "metadata": {},
   "outputs": [
    {
     "data": {
      "text/html": [
       "<div>\n",
       "<style scoped>\n",
       "    .dataframe tbody tr th:only-of-type {\n",
       "        vertical-align: middle;\n",
       "    }\n",
       "\n",
       "    .dataframe tbody tr th {\n",
       "        vertical-align: top;\n",
       "    }\n",
       "\n",
       "    .dataframe thead th {\n",
       "        text-align: right;\n",
       "    }\n",
       "</style>\n",
       "<table border=\"1\" class=\"dataframe\">\n",
       "  <thead>\n",
       "    <tr style=\"text-align: right;\">\n",
       "      <th></th>\n",
       "      <th>imdb_title_id</th>\n",
       "      <th>title</th>\n",
       "      <th>original_title</th>\n",
       "      <th>year</th>\n",
       "      <th>date_published</th>\n",
       "      <th>genre</th>\n",
       "      <th>duration</th>\n",
       "      <th>country</th>\n",
       "      <th>language</th>\n",
       "      <th>actors</th>\n",
       "      <th>...</th>\n",
       "      <th>reviews_from_critics</th>\n",
       "      <th>weighted_average_vote</th>\n",
       "      <th>total_votes</th>\n",
       "      <th>mean_vote</th>\n",
       "      <th>median_vote</th>\n",
       "      <th>males_allages_avg_vote</th>\n",
       "      <th>males_allages_votes</th>\n",
       "      <th>females_allages_avg_vote</th>\n",
       "      <th>us_voters_rating</th>\n",
       "      <th>us_voters_votes</th>\n",
       "    </tr>\n",
       "  </thead>\n",
       "  <tbody>\n",
       "    <tr>\n",
       "      <th>0</th>\n",
       "      <td>tt0000009</td>\n",
       "      <td>Miss Jerry</td>\n",
       "      <td>Miss Jerry</td>\n",
       "      <td>1894</td>\n",
       "      <td>1894-10-09</td>\n",
       "      <td>Romance</td>\n",
       "      <td>45</td>\n",
       "      <td>USA</td>\n",
       "      <td>None</td>\n",
       "      <td>Blanche Bayliss, William Courtenay, Chauncey D...</td>\n",
       "      <td>...</td>\n",
       "      <td>2.0</td>\n",
       "      <td>5.9</td>\n",
       "      <td>154</td>\n",
       "      <td>5.9</td>\n",
       "      <td>6.0</td>\n",
       "      <td>6.2</td>\n",
       "      <td>97.0</td>\n",
       "      <td>6.0</td>\n",
       "      <td>6.4</td>\n",
       "      <td>51.0</td>\n",
       "    </tr>\n",
       "    <tr>\n",
       "      <th>1</th>\n",
       "      <td>tt0000574</td>\n",
       "      <td>The Story of the Kelly Gang</td>\n",
       "      <td>The Story of the Kelly Gang</td>\n",
       "      <td>1906</td>\n",
       "      <td>1906-12-26</td>\n",
       "      <td>Biography, Crime, Drama</td>\n",
       "      <td>70</td>\n",
       "      <td>Australia</td>\n",
       "      <td>None</td>\n",
       "      <td>Elizabeth Tait, John Tait, Norman Campbell, Be...</td>\n",
       "      <td>...</td>\n",
       "      <td>7.0</td>\n",
       "      <td>6.1</td>\n",
       "      <td>589</td>\n",
       "      <td>6.3</td>\n",
       "      <td>6.0</td>\n",
       "      <td>6.1</td>\n",
       "      <td>425.0</td>\n",
       "      <td>6.2</td>\n",
       "      <td>6.0</td>\n",
       "      <td>96.0</td>\n",
       "    </tr>\n",
       "    <tr>\n",
       "      <th>2</th>\n",
       "      <td>tt0001892</td>\n",
       "      <td>Den sorte drøm</td>\n",
       "      <td>Den sorte drøm</td>\n",
       "      <td>1911</td>\n",
       "      <td>1911-08-19</td>\n",
       "      <td>Drama</td>\n",
       "      <td>53</td>\n",
       "      <td>Germany, Denmark</td>\n",
       "      <td>NaN</td>\n",
       "      <td>Asta Nielsen, Valdemar Psilander, Gunnar Helse...</td>\n",
       "      <td>...</td>\n",
       "      <td>2.0</td>\n",
       "      <td>5.8</td>\n",
       "      <td>188</td>\n",
       "      <td>6.0</td>\n",
       "      <td>6.0</td>\n",
       "      <td>5.9</td>\n",
       "      <td>146.0</td>\n",
       "      <td>5.7</td>\n",
       "      <td>6.2</td>\n",
       "      <td>31.0</td>\n",
       "    </tr>\n",
       "    <tr>\n",
       "      <th>3</th>\n",
       "      <td>tt0002101</td>\n",
       "      <td>Cleopatra</td>\n",
       "      <td>Cleopatra</td>\n",
       "      <td>1912</td>\n",
       "      <td>1912-11-13</td>\n",
       "      <td>Drama, History</td>\n",
       "      <td>100</td>\n",
       "      <td>USA</td>\n",
       "      <td>English</td>\n",
       "      <td>Helen Gardner, Pearl Sindelar, Miss Fielding, ...</td>\n",
       "      <td>...</td>\n",
       "      <td>3.0</td>\n",
       "      <td>5.2</td>\n",
       "      <td>446</td>\n",
       "      <td>5.3</td>\n",
       "      <td>5.0</td>\n",
       "      <td>5.1</td>\n",
       "      <td>299.0</td>\n",
       "      <td>5.9</td>\n",
       "      <td>5.5</td>\n",
       "      <td>207.0</td>\n",
       "    </tr>\n",
       "    <tr>\n",
       "      <th>4</th>\n",
       "      <td>tt0002130</td>\n",
       "      <td>L'Inferno</td>\n",
       "      <td>L'Inferno</td>\n",
       "      <td>1911</td>\n",
       "      <td>1911-03-06</td>\n",
       "      <td>Adventure, Drama, Fantasy</td>\n",
       "      <td>68</td>\n",
       "      <td>Italy</td>\n",
       "      <td>Italian</td>\n",
       "      <td>Salvatore Papa, Arturo Pirovano, Giuseppe de L...</td>\n",
       "      <td>...</td>\n",
       "      <td>14.0</td>\n",
       "      <td>7.0</td>\n",
       "      <td>2237</td>\n",
       "      <td>6.9</td>\n",
       "      <td>7.0</td>\n",
       "      <td>7.0</td>\n",
       "      <td>1607.0</td>\n",
       "      <td>7.2</td>\n",
       "      <td>7.0</td>\n",
       "      <td>488.0</td>\n",
       "    </tr>\n",
       "  </tbody>\n",
       "</table>\n",
       "<p>5 rows × 31 columns</p>\n",
       "</div>"
      ],
      "text/plain": [
       "  imdb_title_id                        title               original_title  \\\n",
       "0     tt0000009                   Miss Jerry                   Miss Jerry   \n",
       "1     tt0000574  The Story of the Kelly Gang  The Story of the Kelly Gang   \n",
       "2     tt0001892               Den sorte drøm               Den sorte drøm   \n",
       "3     tt0002101                    Cleopatra                    Cleopatra   \n",
       "4     tt0002130                    L'Inferno                    L'Inferno   \n",
       "\n",
       "   year date_published                      genre  duration           country  \\\n",
       "0  1894     1894-10-09                    Romance        45               USA   \n",
       "1  1906     1906-12-26    Biography, Crime, Drama        70         Australia   \n",
       "2  1911     1911-08-19                      Drama        53  Germany, Denmark   \n",
       "3  1912     1912-11-13             Drama, History       100               USA   \n",
       "4  1911     1911-03-06  Adventure, Drama, Fantasy        68             Italy   \n",
       "\n",
       "  language                                             actors  ...  \\\n",
       "0     None  Blanche Bayliss, William Courtenay, Chauncey D...  ...   \n",
       "1     None  Elizabeth Tait, John Tait, Norman Campbell, Be...  ...   \n",
       "2      NaN  Asta Nielsen, Valdemar Psilander, Gunnar Helse...  ...   \n",
       "3  English  Helen Gardner, Pearl Sindelar, Miss Fielding, ...  ...   \n",
       "4  Italian  Salvatore Papa, Arturo Pirovano, Giuseppe de L...  ...   \n",
       "\n",
       "  reviews_from_critics weighted_average_vote total_votes mean_vote  \\\n",
       "0                  2.0                   5.9         154       5.9   \n",
       "1                  7.0                   6.1         589       6.3   \n",
       "2                  2.0                   5.8         188       6.0   \n",
       "3                  3.0                   5.2         446       5.3   \n",
       "4                 14.0                   7.0        2237       6.9   \n",
       "\n",
       "   median_vote  males_allages_avg_vote males_allages_votes  \\\n",
       "0          6.0                     6.2                97.0   \n",
       "1          6.0                     6.1               425.0   \n",
       "2          6.0                     5.9               146.0   \n",
       "3          5.0                     5.1               299.0   \n",
       "4          7.0                     7.0              1607.0   \n",
       "\n",
       "  females_allages_avg_vote us_voters_rating  us_voters_votes  \n",
       "0                      6.0              6.4             51.0  \n",
       "1                      6.2              6.0             96.0  \n",
       "2                      5.7              6.2             31.0  \n",
       "3                      5.9              5.5            207.0  \n",
       "4                      7.2              7.0            488.0  \n",
       "\n",
       "[5 rows x 31 columns]"
      ]
     },
     "execution_count": 62,
     "metadata": {},
     "output_type": "execute_result"
    }
   ],
   "source": [
    "merged_df = merged_df[['imdb_title_id', 'title', 'original_title', 'year', 'date_published',\n",
    "       'genre', 'duration', 'country', 'language', 'actors', 'director', 'writer',\n",
    "       'production_company', 'description', 'avg_vote', 'votes',\n",
    "       'budget', 'usa_gross_income', 'worlwide_gross_income', 'metascore',\n",
    "       'reviews_from_users', 'reviews_from_critics', 'weighted_average_vote',\n",
    "       'total_votes', 'mean_vote', 'median_vote', 'males_allages_avg_vote',\n",
    "       'males_allages_votes','females_allages_avg_vote','us_voters_rating',\n",
    "       'us_voters_votes']]\n",
    "merged_df.head()"
   ]
  },
  {
   "cell_type": "code",
   "execution_count": 63,
   "metadata": {},
   "outputs": [
    {
     "data": {
      "text/plain": [
       "28511"
      ]
     },
     "execution_count": 63,
     "metadata": {},
     "output_type": "execute_result"
    }
   ],
   "source": [
    "# Get only \n",
    "usa_df = merged_df[merged_df['country'] == 'USA']\n",
    "len(usa_df)"
   ]
  },
  {
   "cell_type": "code",
   "execution_count": 64,
   "metadata": {},
   "outputs": [
    {
     "data": {
      "text/plain": [
       "Index(['imdb_title_id', 'title', 'original_title', 'year', 'date_published',\n",
       "       'genre', 'duration', 'country', 'language', 'actors', 'director',\n",
       "       'writer', 'production_company', 'description', 'avg_vote', 'votes',\n",
       "       'budget', 'usa_gross_income', 'worlwide_gross_income', 'metascore',\n",
       "       'reviews_from_users', 'reviews_from_critics', 'weighted_average_vote',\n",
       "       'total_votes', 'mean_vote', 'median_vote', 'males_allages_avg_vote',\n",
       "       'males_allages_votes', 'females_allages_avg_vote', 'us_voters_rating',\n",
       "       'us_voters_votes'],\n",
       "      dtype='object')"
      ]
     },
     "execution_count": 64,
     "metadata": {},
     "output_type": "execute_result"
    }
   ],
   "source": [
    "# Get only movies that were released past 2005\n",
    "recent_df = usa_df[usa_df['year'].str.len() == 4]\n",
    "recent_df = recent_df[recent_df['year'].astype(int) > 2005]\n",
    "len(recent_df)\n",
    "recent_df.columns"
   ]
  },
  {
   "cell_type": "code",
   "execution_count": 65,
   "metadata": {},
   "outputs": [
    {
     "data": {
      "text/plain": [
       "10475"
      ]
     },
     "execution_count": 65,
     "metadata": {},
     "output_type": "execute_result"
    }
   ],
   "source": [
    "# get rid of Reality TV\n",
    "recent_df = recent_df[recent_df['genre'].str.contains('Reality-TV') == False]\n",
    "\n",
    "# Fix budget string to number\n",
    "recent_df['budget'] = recent_df['budget'].str.extract('(\\d+)', expand=False)\n",
    "recent_df['budget'] = recent_df['budget'].fillna(0)\n",
    "recent_df['budget'] = recent_df['budget'].astype(int)\n",
    "\n",
    "# Add actor, writer, director to be changed to numbers\n",
    "recent_df['lead_actor'] = recent_df['actors'].str.split(',').str[0]\n",
    "recent_df['lead_director'] = recent_df['director'].str.split(',').str[0]\n",
    "recent_df['lead_writer'] = recent_df['writer'].str.split(',').str[0]\n",
    "recent_df['lead_actor'] = recent_df['lead_actor'].fillna(0)\n",
    "recent_df['lead_director'] = recent_df['lead_director'].fillna(0)\n",
    "recent_df['lead_writer'] = recent_df['lead_writer'].fillna(0)\n",
    "\n",
    "# fillna on production company to keep it\n",
    "recent_df['production_company'] = recent_df['production_company'].fillna(0)\n",
    "\n",
    "# add month\n",
    "recent_df['month'] = recent_df['date_published'].str.split('-').str[1]\n",
    "recent_df['month'] = recent_df['month'].fillna(0)\n",
    "\n",
    "\n",
    "recent_df.dropna(axis=1, inplace=True)\n",
    "len(recent_df)"
   ]
  },
  {
   "cell_type": "code",
   "execution_count": 66,
   "metadata": {},
   "outputs": [
    {
     "data": {
      "text/plain": [
       "Index(['imdb_title_id', 'title', 'original_title', 'year', 'date_published',\n",
       "       'genre', 'duration', 'country', 'production_company', 'avg_vote',\n",
       "       'votes', 'budget', 'weighted_average_vote', 'total_votes', 'mean_vote',\n",
       "       'median_vote', 'females_allages_avg_vote', 'lead_actor',\n",
       "       'lead_director', 'lead_writer', 'month'],\n",
       "      dtype='object')"
      ]
     },
     "execution_count": 66,
     "metadata": {},
     "output_type": "execute_result"
    }
   ],
   "source": [
    "recent_df.columns"
   ]
  },
  {
   "cell_type": "code",
   "execution_count": 67,
   "metadata": {},
   "outputs": [
    {
     "data": {
      "text/html": [
       "<div>\n",
       "<style scoped>\n",
       "    .dataframe tbody tr th:only-of-type {\n",
       "        vertical-align: middle;\n",
       "    }\n",
       "\n",
       "    .dataframe tbody tr th {\n",
       "        vertical-align: top;\n",
       "    }\n",
       "\n",
       "    .dataframe thead th {\n",
       "        text-align: right;\n",
       "    }\n",
       "</style>\n",
       "<table border=\"1\" class=\"dataframe\">\n",
       "  <thead>\n",
       "    <tr style=\"text-align: right;\">\n",
       "      <th></th>\n",
       "      <th>production_number</th>\n",
       "      <th>production_company</th>\n",
       "    </tr>\n",
       "  </thead>\n",
       "  <tbody>\n",
       "    <tr>\n",
       "      <th>0</th>\n",
       "      <td>0</td>\n",
       "      <td>0</td>\n",
       "    </tr>\n",
       "    <tr>\n",
       "      <th>1</th>\n",
       "      <td>1</td>\n",
       "      <td>Columbia Pictures</td>\n",
       "    </tr>\n",
       "    <tr>\n",
       "      <th>2</th>\n",
       "      <td>2</td>\n",
       "      <td>Warner Bros.</td>\n",
       "    </tr>\n",
       "    <tr>\n",
       "      <th>3</th>\n",
       "      <td>3</td>\n",
       "      <td>Universal Pictures</td>\n",
       "    </tr>\n",
       "    <tr>\n",
       "      <th>4</th>\n",
       "      <td>4</td>\n",
       "      <td>The Asylum</td>\n",
       "    </tr>\n",
       "  </tbody>\n",
       "</table>\n",
       "</div>"
      ],
      "text/plain": [
       "   production_number  production_company\n",
       "0                  0                   0\n",
       "1                  1   Columbia Pictures\n",
       "2                  2        Warner Bros.\n",
       "3                  3  Universal Pictures\n",
       "4                  4          The Asylum"
      ]
     },
     "execution_count": 67,
     "metadata": {},
     "output_type": "execute_result"
    }
   ],
   "source": [
    "production_df = pd.DataFrame(recent_df['production_company'].value_counts()).reset_index().reset_index()\n",
    "production_df.drop('production_company', axis=1, inplace=True)\n",
    "production_df.rename(columns={\"level_0\": \"production_number\", \"index\": \"production_company\"}, inplace=True)\n",
    "production_df.to_csv('people_codes/productions.csv')\n",
    "production_df.head()"
   ]
  },
  {
   "cell_type": "code",
   "execution_count": 68,
   "metadata": {},
   "outputs": [
    {
     "data": {
      "text/plain": [
       "Index(['imdb_title_id', 'title', 'original_title', 'year', 'date_published',\n",
       "       'genre', 'duration', 'country', 'production_company', 'avg_vote',\n",
       "       'votes', 'budget', 'weighted_average_vote', 'total_votes', 'mean_vote',\n",
       "       'median_vote', 'females_allages_avg_vote', 'lead_actor',\n",
       "       'lead_director', 'lead_writer', 'month', 'production_number'],\n",
       "      dtype='object')"
      ]
     },
     "execution_count": 68,
     "metadata": {},
     "output_type": "execute_result"
    }
   ],
   "source": [
    "recent_df = pd.merge(recent_df, production_df, on=\"production_company\")\n",
    "recent_df.columns"
   ]
  },
  {
   "cell_type": "code",
   "execution_count": 69,
   "metadata": {},
   "outputs": [
    {
     "data": {
      "text/html": [
       "<div>\n",
       "<style scoped>\n",
       "    .dataframe tbody tr th:only-of-type {\n",
       "        vertical-align: middle;\n",
       "    }\n",
       "\n",
       "    .dataframe tbody tr th {\n",
       "        vertical-align: top;\n",
       "    }\n",
       "\n",
       "    .dataframe thead th {\n",
       "        text-align: right;\n",
       "    }\n",
       "</style>\n",
       "<table border=\"1\" class=\"dataframe\">\n",
       "  <thead>\n",
       "    <tr style=\"text-align: right;\">\n",
       "      <th></th>\n",
       "      <th>actor_number</th>\n",
       "      <th>lead_actor</th>\n",
       "    </tr>\n",
       "  </thead>\n",
       "  <tbody>\n",
       "    <tr>\n",
       "      <th>0</th>\n",
       "      <td>0</td>\n",
       "      <td>Eric Roberts</td>\n",
       "    </tr>\n",
       "    <tr>\n",
       "      <th>1</th>\n",
       "      <td>1</td>\n",
       "      <td>Nicolas Cage</td>\n",
       "    </tr>\n",
       "    <tr>\n",
       "      <th>2</th>\n",
       "      <td>2</td>\n",
       "      <td>Adam Sandler</td>\n",
       "    </tr>\n",
       "    <tr>\n",
       "      <th>3</th>\n",
       "      <td>3</td>\n",
       "      <td>Danny Trejo</td>\n",
       "    </tr>\n",
       "    <tr>\n",
       "      <th>4</th>\n",
       "      <td>4</td>\n",
       "      <td>James Franco</td>\n",
       "    </tr>\n",
       "  </tbody>\n",
       "</table>\n",
       "</div>"
      ],
      "text/plain": [
       "   actor_number    lead_actor\n",
       "0             0  Eric Roberts\n",
       "1             1  Nicolas Cage\n",
       "2             2  Adam Sandler\n",
       "3             3   Danny Trejo\n",
       "4             4  James Franco"
      ]
     },
     "execution_count": 69,
     "metadata": {},
     "output_type": "execute_result"
    }
   ],
   "source": [
    "actor_df = pd.DataFrame(recent_df['lead_actor'].value_counts()).reset_index().reset_index()\n",
    "actor_df.drop('lead_actor', axis=1, inplace=True)\n",
    "actor_df.rename(columns={\"level_0\": \"actor_number\", \"index\": \"lead_actor\"}, inplace=True)\n",
    "actor_df.to_csv('people_codes/actors.csv')\n",
    "actor_df.head()"
   ]
  },
  {
   "cell_type": "code",
   "execution_count": 70,
   "metadata": {},
   "outputs": [
    {
     "data": {
      "text/plain": [
       "Index(['imdb_title_id', 'title', 'original_title', 'year', 'date_published',\n",
       "       'genre', 'duration', 'country', 'production_company', 'avg_vote',\n",
       "       'votes', 'budget', 'weighted_average_vote', 'total_votes', 'mean_vote',\n",
       "       'median_vote', 'females_allages_avg_vote', 'lead_actor',\n",
       "       'lead_director', 'lead_writer', 'month', 'production_number',\n",
       "       'actor_number'],\n",
       "      dtype='object')"
      ]
     },
     "execution_count": 70,
     "metadata": {},
     "output_type": "execute_result"
    }
   ],
   "source": [
    "recent_df = pd.merge(recent_df, actor_df, on=\"lead_actor\")\n",
    "recent_df.columns"
   ]
  },
  {
   "cell_type": "code",
   "execution_count": 71,
   "metadata": {},
   "outputs": [
    {
     "data": {
      "text/html": [
       "<div>\n",
       "<style scoped>\n",
       "    .dataframe tbody tr th:only-of-type {\n",
       "        vertical-align: middle;\n",
       "    }\n",
       "\n",
       "    .dataframe tbody tr th {\n",
       "        vertical-align: top;\n",
       "    }\n",
       "\n",
       "    .dataframe thead th {\n",
       "        text-align: right;\n",
       "    }\n",
       "</style>\n",
       "<table border=\"1\" class=\"dataframe\">\n",
       "  <thead>\n",
       "    <tr style=\"text-align: right;\">\n",
       "      <th></th>\n",
       "      <th>director_number</th>\n",
       "      <th>lead_director</th>\n",
       "    </tr>\n",
       "  </thead>\n",
       "  <tbody>\n",
       "    <tr>\n",
       "      <th>0</th>\n",
       "      <td>0</td>\n",
       "      <td>0</td>\n",
       "    </tr>\n",
       "    <tr>\n",
       "      <th>1</th>\n",
       "      <td>1</td>\n",
       "      <td>Tyler Perry</td>\n",
       "    </tr>\n",
       "    <tr>\n",
       "      <th>2</th>\n",
       "      <td>2</td>\n",
       "      <td>David DeCoteau</td>\n",
       "    </tr>\n",
       "    <tr>\n",
       "      <th>3</th>\n",
       "      <td>3</td>\n",
       "      <td>Rene Perez</td>\n",
       "    </tr>\n",
       "    <tr>\n",
       "      <th>4</th>\n",
       "      <td>4</td>\n",
       "      <td>Michael Feifer</td>\n",
       "    </tr>\n",
       "  </tbody>\n",
       "</table>\n",
       "</div>"
      ],
      "text/plain": [
       "   director_number   lead_director\n",
       "0                0               0\n",
       "1                1     Tyler Perry\n",
       "2                2  David DeCoteau\n",
       "3                3      Rene Perez\n",
       "4                4  Michael Feifer"
      ]
     },
     "execution_count": 71,
     "metadata": {},
     "output_type": "execute_result"
    }
   ],
   "source": [
    "director_df = pd.DataFrame(recent_df['lead_director'].value_counts()).reset_index().reset_index()\n",
    "director_df.drop('lead_director', axis=1, inplace=True)\n",
    "director_df.rename(columns={\"level_0\": \"director_number\", \"index\": \"lead_director\"}, inplace=True)\n",
    "director_df.to_csv('people_codes/directors.csv')\n",
    "director_df.head()"
   ]
  },
  {
   "cell_type": "code",
   "execution_count": 72,
   "metadata": {},
   "outputs": [
    {
     "data": {
      "text/plain": [
       "Index(['imdb_title_id', 'title', 'original_title', 'year', 'date_published',\n",
       "       'genre', 'duration', 'country', 'production_company', 'avg_vote',\n",
       "       'votes', 'budget', 'weighted_average_vote', 'total_votes', 'mean_vote',\n",
       "       'median_vote', 'females_allages_avg_vote', 'lead_actor',\n",
       "       'lead_director', 'lead_writer', 'month', 'production_number',\n",
       "       'actor_number', 'director_number'],\n",
       "      dtype='object')"
      ]
     },
     "execution_count": 72,
     "metadata": {},
     "output_type": "execute_result"
    }
   ],
   "source": [
    "\n",
    "recent_df = pd.merge(recent_df, director_df, on=\"lead_director\")\n",
    "recent_df.columns"
   ]
  },
  {
   "cell_type": "code",
   "execution_count": 73,
   "metadata": {},
   "outputs": [
    {
     "data": {
      "text/html": [
       "<div>\n",
       "<style scoped>\n",
       "    .dataframe tbody tr th:only-of-type {\n",
       "        vertical-align: middle;\n",
       "    }\n",
       "\n",
       "    .dataframe tbody tr th {\n",
       "        vertical-align: top;\n",
       "    }\n",
       "\n",
       "    .dataframe thead th {\n",
       "        text-align: right;\n",
       "    }\n",
       "</style>\n",
       "<table border=\"1\" class=\"dataframe\">\n",
       "  <thead>\n",
       "    <tr style=\"text-align: right;\">\n",
       "      <th></th>\n",
       "      <th>writer_number</th>\n",
       "      <th>lead_writer</th>\n",
       "    </tr>\n",
       "  </thead>\n",
       "  <tbody>\n",
       "    <tr>\n",
       "      <th>0</th>\n",
       "      <td>0</td>\n",
       "      <td>0</td>\n",
       "    </tr>\n",
       "    <tr>\n",
       "      <th>1</th>\n",
       "      <td>1</td>\n",
       "      <td>Tyler Perry</td>\n",
       "    </tr>\n",
       "    <tr>\n",
       "      <th>2</th>\n",
       "      <td>2</td>\n",
       "      <td>Jake Helgren</td>\n",
       "    </tr>\n",
       "    <tr>\n",
       "      <th>3</th>\n",
       "      <td>3</td>\n",
       "      <td>Rolfe Kanefsky</td>\n",
       "    </tr>\n",
       "    <tr>\n",
       "      <th>4</th>\n",
       "      <td>4</td>\n",
       "      <td>James Cullen Bressack</td>\n",
       "    </tr>\n",
       "  </tbody>\n",
       "</table>\n",
       "</div>"
      ],
      "text/plain": [
       "   writer_number            lead_writer\n",
       "0              0                      0\n",
       "1              1            Tyler Perry\n",
       "2              2           Jake Helgren\n",
       "3              3         Rolfe Kanefsky\n",
       "4              4  James Cullen Bressack"
      ]
     },
     "execution_count": 73,
     "metadata": {},
     "output_type": "execute_result"
    }
   ],
   "source": [
    "writer_df = pd.DataFrame(recent_df['lead_writer'].value_counts()).reset_index().reset_index()\n",
    "writer_df.drop('lead_writer', axis=1, inplace=True)\n",
    "writer_df.rename(columns={\"level_0\": \"writer_number\", \"index\": \"lead_writer\"}, inplace=True)\n",
    "writer_df.to_csv('people_codes/writers.csv')\n",
    "writer_df.head()"
   ]
  },
  {
   "cell_type": "code",
   "execution_count": 74,
   "metadata": {},
   "outputs": [
    {
     "data": {
      "text/plain": [
       "Index(['imdb_title_id', 'title', 'original_title', 'year', 'date_published',\n",
       "       'genre', 'duration', 'country', 'production_company', 'avg_vote',\n",
       "       'votes', 'budget', 'weighted_average_vote', 'total_votes', 'mean_vote',\n",
       "       'median_vote', 'females_allages_avg_vote', 'lead_actor',\n",
       "       'lead_director', 'lead_writer', 'month', 'production_number',\n",
       "       'actor_number', 'director_number', 'writer_number'],\n",
       "      dtype='object')"
      ]
     },
     "execution_count": 74,
     "metadata": {},
     "output_type": "execute_result"
    }
   ],
   "source": [
    "\n",
    "recent_df = pd.merge(recent_df, writer_df, on=\"lead_writer\")\n",
    "recent_df.columns"
   ]
  },
  {
   "cell_type": "code",
   "execution_count": 75,
   "metadata": {},
   "outputs": [
    {
     "data": {
      "text/plain": [
       "Home                 5\n",
       "Alone                4\n",
       "Shelter              4\n",
       "Dreamland            4\n",
       "Paradox              3\n",
       "                    ..\n",
       "The Frozen Ground    1\n",
       "Operation Terror     1\n",
       "Trauma Center        1\n",
       "Universal Signs      1\n",
       "Stuber               1\n",
       "Name: original_title, Length: 10258, dtype: int64"
      ]
     },
     "execution_count": 75,
     "metadata": {},
     "output_type": "execute_result"
    }
   ],
   "source": [
    "recent_df['original_title'].value_counts()"
   ]
  },
  {
   "cell_type": "code",
   "execution_count": 79,
   "metadata": {},
   "outputs": [
    {
     "data": {
      "text/plain": [
       "Index(['imdb_title_id', 'title', 'original_title', 'year', 'date_published',\n",
       "       'genre', 'duration', 'country', 'production_company', 'avg_vote',\n",
       "       'votes', 'budget', 'weighted_average_vote', 'total_votes', 'mean_vote',\n",
       "       'median_vote', 'females_allages_avg_vote', 'lead_actor',\n",
       "       'lead_director', 'lead_writer', 'month', 'production_number',\n",
       "       'actor_number', 'director_number', 'writer_number'],\n",
       "      dtype='object')"
      ]
     },
     "execution_count": 79,
     "metadata": {},
     "output_type": "execute_result"
    }
   ],
   "source": [
    "test_df = recent_df[recent_df['original_title'] == 'Home']\n",
    "test_df.columns"
   ]
  },
  {
   "cell_type": "code",
   "execution_count": 80,
   "metadata": {},
   "outputs": [
    {
     "data": {
      "text/html": [
       "<div>\n",
       "<style scoped>\n",
       "    .dataframe tbody tr th:only-of-type {\n",
       "        vertical-align: middle;\n",
       "    }\n",
       "\n",
       "    .dataframe tbody tr th {\n",
       "        vertical-align: top;\n",
       "    }\n",
       "\n",
       "    .dataframe thead th {\n",
       "        text-align: right;\n",
       "    }\n",
       "</style>\n",
       "<table border=\"1\" class=\"dataframe\">\n",
       "  <thead>\n",
       "    <tr style=\"text-align: right;\">\n",
       "      <th></th>\n",
       "      <th>year</th>\n",
       "      <th>duration</th>\n",
       "      <th>avg_vote</th>\n",
       "      <th>votes</th>\n",
       "      <th>budget</th>\n",
       "      <th>weighted_average_vote</th>\n",
       "      <th>total_votes</th>\n",
       "      <th>mean_vote</th>\n",
       "      <th>median_vote</th>\n",
       "      <th>month</th>\n",
       "      <th>production_number</th>\n",
       "      <th>actor_number</th>\n",
       "      <th>director_number</th>\n",
       "      <th>writer_number</th>\n",
       "    </tr>\n",
       "  </thead>\n",
       "  <tbody>\n",
       "    <tr>\n",
       "      <th>0</th>\n",
       "      <td>2007</td>\n",
       "      <td>83</td>\n",
       "      <td>4.3</td>\n",
       "      <td>140</td>\n",
       "      <td>125000</td>\n",
       "      <td>4.3</td>\n",
       "      <td>140</td>\n",
       "      <td>5.5</td>\n",
       "      <td>5.0</td>\n",
       "      <td>10</td>\n",
       "      <td>0</td>\n",
       "      <td>1660</td>\n",
       "      <td>2953</td>\n",
       "      <td>6123</td>\n",
       "    </tr>\n",
       "    <tr>\n",
       "      <th>1</th>\n",
       "      <td>2007</td>\n",
       "      <td>98</td>\n",
       "      <td>5.3</td>\n",
       "      <td>387</td>\n",
       "      <td>0</td>\n",
       "      <td>5.3</td>\n",
       "      <td>387</td>\n",
       "      <td>5.9</td>\n",
       "      <td>6.0</td>\n",
       "      <td>10</td>\n",
       "      <td>0</td>\n",
       "      <td>1506</td>\n",
       "      <td>3344</td>\n",
       "      <td>2803</td>\n",
       "    </tr>\n",
       "    <tr>\n",
       "      <th>2</th>\n",
       "      <td>2014</td>\n",
       "      <td>89</td>\n",
       "      <td>3.8</td>\n",
       "      <td>208</td>\n",
       "      <td>700000</td>\n",
       "      <td>3.8</td>\n",
       "      <td>208</td>\n",
       "      <td>5.1</td>\n",
       "      <td>4.0</td>\n",
       "      <td>10</td>\n",
       "      <td>1460</td>\n",
       "      <td>1506</td>\n",
       "      <td>1937</td>\n",
       "      <td>4250</td>\n",
       "    </tr>\n",
       "    <tr>\n",
       "      <th>3</th>\n",
       "      <td>2008</td>\n",
       "      <td>83</td>\n",
       "      <td>5.4</td>\n",
       "      <td>731</td>\n",
       "      <td>0</td>\n",
       "      <td>5.4</td>\n",
       "      <td>731</td>\n",
       "      <td>6.3</td>\n",
       "      <td>7.0</td>\n",
       "      <td>05</td>\n",
       "      <td>0</td>\n",
       "      <td>3279</td>\n",
       "      <td>6643</td>\n",
       "      <td>3376</td>\n",
       "    </tr>\n",
       "    <tr>\n",
       "      <th>4</th>\n",
       "      <td>2007</td>\n",
       "      <td>116</td>\n",
       "      <td>6.4</td>\n",
       "      <td>269</td>\n",
       "      <td>1500000</td>\n",
       "      <td>6.4</td>\n",
       "      <td>269</td>\n",
       "      <td>6.6</td>\n",
       "      <td>7.0</td>\n",
       "      <td>08</td>\n",
       "      <td>0</td>\n",
       "      <td>4742</td>\n",
       "      <td>2075</td>\n",
       "      <td>0</td>\n",
       "    </tr>\n",
       "  </tbody>\n",
       "</table>\n",
       "</div>"
      ],
      "text/plain": [
       "   year  duration  avg_vote  votes   budget  weighted_average_vote  \\\n",
       "0  2007        83       4.3    140   125000                    4.3   \n",
       "1  2007        98       5.3    387        0                    5.3   \n",
       "2  2014        89       3.8    208   700000                    3.8   \n",
       "3  2008        83       5.4    731        0                    5.4   \n",
       "4  2007       116       6.4    269  1500000                    6.4   \n",
       "\n",
       "   total_votes  mean_vote  median_vote month  production_number  actor_number  \\\n",
       "0          140        5.5          5.0    10                  0          1660   \n",
       "1          387        5.9          6.0    10                  0          1506   \n",
       "2          208        5.1          4.0    10               1460          1506   \n",
       "3          731        6.3          7.0    05                  0          3279   \n",
       "4          269        6.6          7.0    08                  0          4742   \n",
       "\n",
       "   director_number  writer_number  \n",
       "0             2953           6123  \n",
       "1             3344           2803  \n",
       "2             1937           4250  \n",
       "3             6643           3376  \n",
       "4             2075              0  "
      ]
     },
     "execution_count": 80,
     "metadata": {},
     "output_type": "execute_result"
    }
   ],
   "source": [
    "recent_df.to_csv('Sample/sample.csv')\n",
    "numeric_df = recent_df[['year', 'duration', 'avg_vote', 'votes', 'budget', 'weighted_average_vote', 'total_votes', 'mean_vote', 'median_vote', 'month', 'production_number', 'actor_number', 'director_number', 'writer_number']]\n",
    "numeric_df.head()"
   ]
  },
  {
   "cell_type": "code",
   "execution_count": 82,
   "metadata": {},
   "outputs": [],
   "source": [
    "numeric_df.to_csv('Sample/numeric.csv')"
   ]
  }
 ],
 "metadata": {
  "interpreter": {
   "hash": "651c3b7b3f466eb030aa737f279c846be4db9cba49a2f229278cab5e41121ed5"
  },
  "kernelspec": {
   "display_name": "Python 3.8.8 64-bit ('base': conda)",
   "language": "python",
   "name": "python3"
  },
  "language_info": {
   "codemirror_mode": {
    "name": "ipython",
    "version": 3
   },
   "file_extension": ".py",
   "mimetype": "text/x-python",
   "name": "python",
   "nbconvert_exporter": "python",
   "pygments_lexer": "ipython3",
   "version": "3.8.8"
  },
  "orig_nbformat": 4
 },
 "nbformat": 4,
 "nbformat_minor": 2
}
