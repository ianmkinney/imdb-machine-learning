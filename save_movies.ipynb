{
 "cells": [
  {
   "cell_type": "code",
   "execution_count": 2,
   "metadata": {},
   "outputs": [],
   "source": [
    "import get_movie\n",
    "import pandas as pd\n",
    "import get_movie"
   ]
  },
  {
   "cell_type": "code",
   "execution_count": 3,
   "metadata": {},
   "outputs": [
    {
     "name": "stdout",
     "output_type": "stream",
     "text": [
      "Actor 2 not found in database!\n",
      "No buget information for this movie yet\n",
      "Actor 1 not found in database!\n",
      "Actor 2 not found in database!\n",
      "Actor 2 not found in database!\n",
      "Writer not found in database!\n",
      "No buget information for this movie yet\n",
      "Director not found in database!\n",
      "Writer not found in database!\n",
      "Actor 2 not found in database!\n",
      "Director not found in database!\n",
      "Actor 2 not found in database!\n"
     ]
    }
   ],
   "source": [
    "homepage_movies = \"Dune, Shang Chi, No Time To Die, tick,tick...BOOM, Last Night in SoHo, Free Guy\"\n",
    "movies_list = homepage_movies.split(\", \")\n",
    "movies = []\n",
    "for movie in movies_list:\n",
    "    movies.append(get_movie.get_movie_data(movie))\n",
    "\n",
    "df = pd.DataFrame(movies)\n",
    "df.to_csv('static/data/homescreen_movies.csv')"
   ]
  },
  {
   "cell_type": "code",
   "execution_count": 4,
   "metadata": {},
   "outputs": [
    {
     "data": {
      "text/plain": [
       "'Dune'"
      ]
     },
     "execution_count": 4,
     "metadata": {},
     "output_type": "execute_result"
    }
   ],
   "source": [
    "df_test = pd.read_csv('static/data/homescreen_movies.csv')\n",
    "test_name = df['title'][0]\n",
    "test_name"
   ]
  }
 ],
 "metadata": {
  "interpreter": {
   "hash": "651c3b7b3f466eb030aa737f279c846be4db9cba49a2f229278cab5e41121ed5"
  },
  "kernelspec": {
   "display_name": "Python 3.8.8 64-bit ('base': conda)",
   "language": "python",
   "name": "python3"
  },
  "language_info": {
   "codemirror_mode": {
    "name": "ipython",
    "version": 3
   },
   "file_extension": ".py",
   "mimetype": "text/x-python",
   "name": "python",
   "nbconvert_exporter": "python",
   "pygments_lexer": "ipython3",
   "version": "3.8.8"
  },
  "orig_nbformat": 4
 },
 "nbformat": 4,
 "nbformat_minor": 2
}
